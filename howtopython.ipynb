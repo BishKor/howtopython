{
 "cells": [
  {
   "cell_type": "markdown",
   "metadata": {},
   "source": [
    "# Variables\n",
    "The first thing to know about python are variables. They are declared in the following manner where sample_var is the variable and 5 is its value. Shift-Enter runs the cell."
   ]
  },
  {
   "cell_type": "code",
   "execution_count": 4,
   "metadata": {
    "collapsed": true
   },
   "outputs": [],
   "source": [
    "sample_var = 5"
   ]
  },
  {
   "cell_type": "markdown",
   "metadata": {},
   "source": [
    "You may inspect the current value of a variable with the print() function. We'll talk about functions soon enough, but print has a pretty obvious behavior."
   ]
  },
  {
   "cell_type": "code",
   "execution_count": 5,
   "metadata": {
    "collapsed": false
   },
   "outputs": [
    {
     "name": "stdout",
     "output_type": "stream",
     "text": [
      "5\n"
     ]
    }
   ],
   "source": [
    "print(sample_var)"
   ]
  },
  {
   "cell_type": "markdown",
   "metadata": {},
   "source": [
    "Clearly, when you declare a variable in one cell, you may use it in another. While it is possible to declare a variable in one cell and use it in a former cell in the notebook, this is poor form as when the notebook is run in its entirety (from top to bottom) when you submit your assignment, it will not function properly. \n",
    "\n",
    "Jupyter  notebook is also pretty smart, by typing a few characters then hitting the TAB key, you will be given a menu for possible completions of those characters. If this only one possible completion, it will automatically put in that completion. Try this by typing in \"sam\" then hitting TAB.\n",
    "\n",
    "Note that in jupyter notebook, once per cell, you may simply type the variable and yield the effect of the print function. This is not the case in Spyder, PyCharm, or other development environments. You will need to use the print() in those environments."
   ]
  },
  {
   "cell_type": "code",
   "execution_count": 6,
   "metadata": {
    "collapsed": false
   },
   "outputs": [
    {
     "data": {
      "text/plain": [
       "5"
      ]
     },
     "execution_count": 6,
     "metadata": {},
     "output_type": "execute_result"
    }
   ],
   "source": [
    "sample_var"
   ]
  },
  {
   "cell_type": "markdown",
   "metadata": {},
   "source": [
    "# Primitive Types\n",
    "Variables have types. The first we will cover are primitive types: integer, float, string, and boolean. Note that '#' in the upcoming cells denotes a comment. Anything following a '#' will not be executed. "
   ]
  },
  {
   "cell_type": "code",
   "execution_count": 7,
   "metadata": {
    "collapsed": false
   },
   "outputs": [
    {
     "name": "stdout",
     "output_type": "stream",
     "text": [
      "5\n",
      "<type 'int'>\n"
     ]
    }
   ],
   "source": [
    "# Integers\\: 0, 1, 2,... (negatives integers too)\n",
    "int_ex = 5\n",
    "print(int_ex)\n",
    "print(type(int_ex))"
   ]
  },
  {
   "cell_type": "code",
   "execution_count": 8,
   "metadata": {
    "collapsed": false
   },
   "outputs": [
    {
     "name": "stdout",
     "output_type": "stream",
     "text": [
      "3.5637\n",
      "<type 'float'>\n"
     ]
    }
   ],
   "source": [
    "# Floating Point numbers: numbers that have decimal points \n",
    "# examples: 3.14158, 14.223, -0.00214\n",
    "float_ex = 3.5637\n",
    "print(float_ex)\n",
    "print(type(float_ex))"
   ]
  },
  {
   "cell_type": "code",
   "execution_count": 9,
   "metadata": {
    "collapsed": false
   },
   "outputs": [
    {
     "name": "stdout",
     "output_type": "stream",
     "text": [
      "this includes spaces\n",
      "<type 'str'>\n"
     ]
    }
   ],
   "source": [
    "# Strings: literally the alphanumeric characters in a sequence\n",
    "string_ex = \"this includes spaces\"\n",
    "print(string_ex)\n",
    "print(type(string_ex))"
   ]
  },
  {
   "cell_type": "code",
   "execution_count": 10,
   "metadata": {
    "collapsed": false
   },
   "outputs": [
    {
     "name": "stdout",
     "output_type": "stream",
     "text": [
      "False\n",
      "<type 'bool'>\n"
     ]
    }
   ],
   "source": [
    "# Boolean: True or False (no quantum mechanics here)\n",
    "bool_ex = False\n",
    "print(bool_ex)\n",
    "print(type(bool_ex))"
   ]
  },
  {
   "cell_type": "markdown",
   "metadata": {},
   "source": [
    "# Iterable Types\n",
    "Iterable data types include lists, tuples, and dictionaries. We will only cover lists here."
   ]
  },
  {
   "cell_type": "code",
   "execution_count": 11,
   "metadata": {
    "collapsed": false
   },
   "outputs": [
    {
     "name": "stdout",
     "output_type": "stream",
     "text": [
      "[100, 2, 52, 6]\n"
     ]
    }
   ],
   "source": [
    "# lists are ordered collections of other python variables\n",
    "list_ex = [100, 2, 52, 6]\n",
    "print(list_ex)"
   ]
  },
  {
   "cell_type": "markdown",
   "metadata": {},
   "source": [
    "More about lists because they are really important. List can include different kinds of variables."
   ]
  },
  {
   "cell_type": "code",
   "execution_count": 12,
   "metadata": {
    "collapsed": false
   },
   "outputs": [
    {
     "name": "stdout",
     "output_type": "stream",
     "text": [
      "[5, 3.5637, 'this includes spaces', False]\n",
      "[5, 3.5637, 'this includes spaces', False, 'appended string']\n"
     ]
    }
   ],
   "source": [
    "# instantiating a list with \n",
    "list_ex = [int_ex, float_ex, string_ex, bool_ex]\n",
    "print(list_ex)\n",
    "\n",
    "# append variables to the end of the list with\n",
    "list_ex.append(\"appended string\")\n",
    "print(list_ex)"
   ]
  },
  {
   "cell_type": "code",
   "execution_count": 15,
   "metadata": {
    "collapsed": false
   },
   "outputs": [
    {
     "name": "stdout",
     "output_type": "stream",
     "text": [
      "5\n",
      "appended string\n"
     ]
    }
   ],
   "source": [
    "# print individual elements of the list with\n",
    "# lists index from 0 \n",
    "print(list_ex[0])\n",
    "print(list_ex[4])"
   ]
  },
  {
   "cell_type": "code",
   "execution_count": 14,
   "metadata": {
    "collapsed": false
   },
   "outputs": [
    {
     "data": {
      "text/plain": [
       "[3.5637, 'this includes spaces']"
      ]
     },
     "execution_count": 14,
     "metadata": {},
     "output_type": "execute_result"
    }
   ],
   "source": [
    "# print a subset of a list with the following syntax\n",
    "# notice this produces only up to the second index minus one\n",
    "list_ex[1:3]"
   ]
  },
  {
   "cell_type": "markdown",
   "metadata": {},
   "source": [
    "# Converting variable types\n",
    "This is important. When reading in data from a file, typically, python will read the data file as a string. Mathematical operations cannot be performed with characters, they must be performed with numbers. Thus, you must convert from strings to ints or floats, whichever is appropriate for your purposes. "
   ]
  },
  {
   "cell_type": "code",
   "execution_count": 53,
   "metadata": {
    "collapsed": false
   },
   "outputs": [
    {
     "data": {
      "text/plain": [
       "3.1415"
      ]
     },
     "execution_count": 53,
     "metadata": {},
     "output_type": "execute_result"
    }
   ],
   "source": [
    "# converting string to float with float()\n",
    "float(\"3.1415\")"
   ]
  },
  {
   "cell_type": "code",
   "execution_count": 29,
   "metadata": {
    "collapsed": false
   },
   "outputs": [
    {
     "data": {
      "text/plain": [
       "4"
      ]
     },
     "execution_count": 29,
     "metadata": {},
     "output_type": "execute_result"
    }
   ],
   "source": [
    "# converting a float to int has consequences\n",
    "int(4.5)"
   ]
  },
  {
   "cell_type": "markdown",
   "metadata": {},
   "source": [
    "# Operations\n",
    "These are mostly self evident.        \n",
    "https://en.wikipedia.org/wiki/Python_syntax_and_semantics"
   ]
  },
  {
   "cell_type": "code",
   "execution_count": 35,
   "metadata": {
    "collapsed": false
   },
   "outputs": [
    {
     "data": {
      "text/plain": [
       "8.6"
      ]
     },
     "execution_count": 35,
     "metadata": {},
     "output_type": "execute_result"
    }
   ],
   "source": [
    "# addition, subtraction, multiplication, etc...\n",
    "5 + 6 - 4 * 3 / 5"
   ]
  },
  {
   "cell_type": "code",
   "execution_count": 36,
   "metadata": {
    "collapsed": false
   },
   "outputs": [
    {
     "data": {
      "text/plain": [
       "[1, 3, 5, 2, 4, 6]"
      ]
     },
     "execution_count": 36,
     "metadata": {},
     "output_type": "execute_result"
    }
   ],
   "source": [
    "# concatinating two lists\n",
    "[1, 3, 5] + [2, 4, 6]"
   ]
  },
  {
   "cell_type": "code",
   "execution_count": 40,
   "metadata": {
    "collapsed": false
   },
   "outputs": [
    {
     "name": "stdout",
     "output_type": "stream",
     "text": [
      "True\n",
      "True\n",
      "False\n",
      "True\n"
     ]
    }
   ],
   "source": [
    "# determining equivalence is done with ==\n",
    "A = 3\n",
    "B = 3\n",
    "C = 4\n",
    "print(A == B) # equal to\n",
    "print(A != C) # not equal to\n",
    "print(A > C)  # less than\n",
    "print(C >= B) # greater than or equal to"
   ]
  },
  {
   "cell_type": "markdown",
   "metadata": {},
   "source": [
    "# Flow control\n",
    "\n",
    "A programmer controls the execution of code using flow control. There are three primary tools for this: for loops, while loops, and if statements. First, if statements."
   ]
  },
  {
   "cell_type": "code",
   "execution_count": 41,
   "metadata": {
    "collapsed": false
   },
   "outputs": [
    {
     "name": "stdout",
     "output_type": "stream",
     "text": [
      "code here gets executed\n"
     ]
    }
   ],
   "source": [
    "# if statements have the following form. Try changing the value of \n",
    "# bishara_is_gtf to False and professor to other values.\n",
    "\n",
    "bishara_is_gtf = True\n",
    "professor = \"Dean Livelybrooks\"\n",
    "\n",
    "if bishara_is_gtf:\n",
    "    print(\"code here gets executed\")\n",
    "elif professor == \"Dean Livelybrooks\": # elif is short for else if\n",
    "    print(\"instead, this code is executed\")\n",
    "else:\n",
    "    print(\"if the above didn't run, this will\")\n",
    "    "
   ]
  },
  {
   "cell_type": "code",
   "execution_count": 51,
   "metadata": {
    "collapsed": false
   },
   "outputs": [
    {
     "name": "stdout",
     "output_type": "stream",
     "text": [
      "1\n",
      "2\n",
      "3\n",
      "4\n"
     ]
    }
   ],
   "source": [
    "# while loops are if statements that repeatedly get executed until \n",
    "# the conditional argument is False. \n",
    "runner = 1\n",
    "while runner < 5:\n",
    "    print(runner)\n",
    "    runner += 1 # what do you think this does?"
   ]
  },
  {
   "cell_type": "code",
   "execution_count": 47,
   "metadata": {
    "collapsed": false
   },
   "outputs": [
    {
     "name": "stdout",
     "output_type": "stream",
     "text": [
      "1 a\n",
      "2 b\n",
      "3 c\n",
      "4 d\n"
     ]
    }
   ],
   "source": [
    "# for loops take the following form\n",
    "iterlist = [\"a\", \"b\", \"c\", \"d\"]\n",
    "index = 1\n",
    "for element in iterlist:\n",
    "    print(index, element)\n",
    "    index = index + 1"
   ]
  },
  {
   "cell_type": "markdown",
   "metadata": {},
   "source": [
    "# Functions\n",
    "\n",
    "Ok, you've made it this far. Now the going gets good. Functions are the real power of computers. They let you write an operation once and use it many times. There two primary tyes of functions, functions that return values and functions that don't."
   ]
  },
  {
   "cell_type": "code",
   "execution_count": 60,
   "metadata": {
    "collapsed": true
   },
   "outputs": [],
   "source": [
    "# Function declaration with return argument\n",
    "def line_function(m, x, b):\n",
    "    y = m * x + b\n",
    "    return y\n",
    "    "
   ]
  },
  {
   "cell_type": "code",
   "execution_count": 65,
   "metadata": {
    "collapsed": false
   },
   "outputs": [
    {
     "data": {
      "text/plain": [
       "7"
      ]
     },
     "execution_count": 65,
     "metadata": {},
     "output_type": "execute_result"
    }
   ],
   "source": [
    "# a function is called like so\n",
    "line_function(2, 2, 3)"
   ]
  },
  {
   "cell_type": "code",
   "execution_count": 66,
   "metadata": {
    "collapsed": false
   },
   "outputs": [
    {
     "name": "stdout",
     "output_type": "stream",
     "text": [
      "13\n"
     ]
    }
   ],
   "source": [
    "# You may declare a variable and assign it the value of a function's \n",
    "# output.\n",
    "myvar = line_function(2, 5, 3)\n",
    "print(myvar)"
   ]
  },
  {
   "cell_type": "code",
   "execution_count": 71,
   "metadata": {
    "collapsed": true
   },
   "outputs": [],
   "source": [
    "# the other kind of function has no return value. Generally, functions \n",
    "# that return no value ultimately are going to be printing out values in\n",
    "# some organized manner or contain the flow control that dictates \n",
    "# functions that do return values, i.e., a mini program.\n",
    "\n",
    "def no_ret(arg0, arg1):\n",
    "    \n",
    "    rvalue = arg0 + arg1 ** 2 # note that ** is the power operater\n",
    "                              # e.g. x ** 2 is x squared\n",
    "    print(rvalue)\n"
   ]
  },
  {
   "cell_type": "code",
   "execution_count": 72,
   "metadata": {
    "collapsed": false
   },
   "outputs": [
    {
     "name": "stdout",
     "output_type": "stream",
     "text": [
      "71\n"
     ]
    }
   ],
   "source": [
    "no_ret(7, 8)"
   ]
  },
  {
   "cell_type": "markdown",
   "metadata": {},
   "source": [
    "# Input/Output\n",
    "\n",
    "I/O is the process of opening (or creating), closing, reading from, and writing to files. The importance should be obvious. Download pokemon.txt from the email I sent to the class."
   ]
  },
  {
   "cell_type": "code",
   "execution_count": 83,
   "metadata": {
    "collapsed": false
   },
   "outputs": [],
   "source": [
    "# the open function returns a file object\n",
    "f = open('~/Downloads/pokemon.txt', 'r')"
   ]
  },
  {
   "cell_type": "markdown",
   "metadata": {},
   "source": [
    "What is the 'r' doing there? The open function takes two arguments: the path to the file, 'pokemon.txt', and the mode, 'r'. The path to the file should have obvious significance. The mode is the manner in which the file will be used. 'r' stands for read, 'w' stands for write."
   ]
  },
  {
   "cell_type": "code",
   "execution_count": 84,
   "metadata": {
    "collapsed": true
   },
   "outputs": [
    {
     "name": "stdout",
     "output_type": "stream",
     "text": [
      "['# \\tName \\t\\tType \\t\\tHeight \\t\\tWeight \\t\\t\\tBMI\\n', '001\\tBulbasaur\\tGRASS POISON\\t2′4″ (0.71m)\\t15.2 lbs (6.9 kg)\\t13.7\\n', '002\\tIvysaur\\t\\tGRASS POISON\\t3′3″ (0.99m)\\t28.7 lbs (13.0 kg)\\t13.3\\n', '003\\tVenusaur\\tGRASS POISON\\t6′7″ (2.01m)\\t220.5 lbs (100.0 kg)\\t24.8\\n', '004\\tCharmander\\tFIRE \\t\\t2′0″ (0.61m)\\t18.7 lbs (8.5 kg)\\t22.8\\n', '005\\tCharmeleon\\tFIRE \\t\\t3′7″ (1.09m)\\t41.9 lbs (19.0 kg)\\t16.0\\n', '006\\tCharizard\\tFIRE DRAGON\\t5′7″ (1.70m)\\t243.6 lbs (110.5 kg)\\t38.2\\n', '007\\tSquirtle\\tWATER\\t\\t1′8″ (0.51m)\\t19.8 lbs (9.0 kg)\\t34.6\\n', '008\\tWartortle\\tWATER\\t\\t3′3″ (0.99m)\\t49.6 lbs (22.5 kg)\\t23.0\\n', '009\\tBlastoise\\tWATER\\t\\t5′3″ (1.60m)\\t188.5 lbs (85.5 kg)\\t33.4\\n', '010\\tCaterpie\\tBUG\\t\\t1′0″ (0.30m)\\t6.4 lbs (2.9 kg)\\t32.2\\n', '011\\tMetapod\\t\\tBUG\\t\\t2′4″ (0.71m)\\t21.8 lbs (9.9 kg)\\t19.6\\n', '012\\tButterfree\\tBUG FLYING\\t3′7″ (1.09m)\\t70.5 lbs (32.0 kg)\\t26.9\\n', '013\\tWeedle\\t\\tBUG POISON\\t1′0″ (0.30m)\\t7.1 lbs (3.2 kg)\\t35.6\\n', '014\\tKakuna\\t\\tBUG POISON\\t2′0″ (0.61m)\\t22 lbs (10.0 kg)\\t26.9\\n', '015\\tBeedrill\\tBUG POISON\\t3′3″ (0.99m)\\t65 lbs (29.5 kg)\\t30.1\\n', '016\\tPidgey\\t\\tNORMAL FLYING\\t1′0″ (0.30m)\\t4 lbs (1.8 kg)\\t\\t20.0\\n', '017\\tPidgeotto\\tNORMAL FLYING\\t3′7″ (1.09m)\\t66.1 lbs (30.0 kg)\\t25.3\\n', '018\\tPidgeot\\t\\tNORMAL FLYING\\t4′11″(1.50m)\\t87.1 lbs (39.5 kg)\\t17.6\\n', '019\\tRattata\\t\\tNORMAL \\t\\t1′0″ (0.30m)\\t7.7 lbs (3.5 kg)\\t38.9\\n', '020\\tRaticate\\tNORMAL\\t\\t2′4″ (0.71m)\\t40.8 lbs (18.5 kg)\\t36.7\\n', '021\\tSpearow\\t\\tNORMAL FLYING\\t1′0″ (0.30m)\\t4.4 lbs (2.0 kg)\\t22.2\\n', '022\\tFearow\\t\\tNORMAL FLYING\\t3′11″(1.19m)\\t83.8 lbs (38.0 kg)\\t26.8\\n', '023\\tEkans\\t\\tPOISON\\t\\t6′7″ (2.01m)\\t15.2 lbs (6.9 kg)\\t1.7\\n', '024\\tArbok\\t\\tPOISON\\t\\t11′6″(3.51m)\\t143.3 lbs (65.0 kg)\\t5.3\\n', '025\\tPikachu\\t\\tELECTRIC\\t1′4″ (0.41m)\\t13.2 lbs (6.0 kg)\\t35.7\\n', '026\\tRaichu\\t\\tELECTRIC\\t2′7″ (0.79m)\\t66.1 lbs (30.0 kg)\\t48.1\\n', '027\\tSandshrew\\tGROUND\\t\\t2′0″ (0.61m)\\t26.5 lbs (12.0 kg)\\t32.2\\n', '028\\tSandslash\\tGROUND\\t\\t3′3″ (0.99m)\\t65 lbs (29.5 kg)\\t30.1\\n', '029\\tNidoran♀\\tPOISON\\t\\t1′4″ (0.41m)\\t15.4 lbs (7.0 kg)\\t41.6 \\n', '030\\tNidorina\\tPOISON \\t\\t2′7″ (0.79m)\\t44.1 lbs (20.0 kg)\\t32.0 \\n', '031\\tNidoqueen\\tPOISON GROUND\\t4′3″ (1.30m)\\t132.3 lbs (60.0 kg)\\t35.5 \\n', '032\\tNidoran♂\\tPOISON\\t\\t1′8″ (0.51m)\\t19.8 lbs (9.0 kg)\\t34.6 \\n', '033\\tNidorino\\tPOISON \\t\\t2′11″(0.89m)\\t43 lbs (19.5 kg)\\t24.6 \\n', '034\\tNidoking\\tPOISON GROUND\\t4′7″ (1.40m)\\t136.7 lbs (62.0 kg)\\t31.6 \\n', '035\\tClefairy\\tFAIRY\\t\\t2′0″ (0.61m)\\t16.5 lbs (7.5 kg)\\t20.2 \\n', '036\\tClefable\\tFAIRY\\t\\t4′3″ (1.30m)\\t88.2 lbs (40.0 kg)\\t23.7 \\n', '037\\tVulpix\\t\\tFIRE\\t\\t2′0″ (0.61m)\\t21.8 lbs (9.9 kg)\\t26.6 \\n', '038\\tNinetales\\tFIRE\\t\\t3′7″ (1.09m)\\t43.9 lbs (19.9 kg)\\t16.7 \\n', '039\\tJigglypuff\\tNORMAL FAIRY\\t1′8″ (0.51m)\\t12.1 lbs (5.5 kg)\\t21.1 \\n', '040\\tWigglytuff\\tNORMAL FAIRY\\t3′3″ (0.99m)\\t26.5 lbs (12.0 kg)\\t12.2 \\n', '041\\tZubat\\t\\tPOISON FLYING\\t2′7″ (0.79m)\\t16.5 lbs (7.5 kg)\\t12.0 \\n', '042\\tGolbat\\t\\tPOISON FLYING\\t5′3″ (1.60m)\\t121.3 lbs (55.0 kg)\\t21.5 \\n', '043 \\tOddish\\t\\tGRASS POISON\\t1′8″ (0.51m)\\t11.9 lbs (5.4 kg)\\t20.8 \\n', '044\\tGloom\\t\\tGRASS POISON\\t2′7″ (0.79m)\\t19 lbs (8.6 kg)\\t13.8 \\n', '045\\tVileplume\\tGRASS POISON\\t3′11″(1.19m)\\t41 lbs (18.6 kg)\\t13.1 \\n', '046\\tParas\\t\\tBUG GRASS\\t1′0″ (0.30m)\\t11.9 lbs (5.4 kg)\\t60.0 \\n', '047\\tParasect\\tBUG GRASS\\t3′3″ (0.99m)\\t65 lbs (29.5 kg)\\t30.1 \\n', '048\\tVenonat\\t\\tBUG POISON\\t3′3″ (0.99m)\\t66.1 lbs (30.0 kg)\\t30.6 \\n', '049\\tVenomoth\\tBUG POISON\\t4′11″(1.50m)\\t27.6 lbs (12.5 kg)\\t5.6 \\n', '050\\tDiglett\\t\\tGROUND \\t\\t0′8″ (0.20m)\\t1.8 lbs (0.8 kg)\\t20.0 \\n', '051\\tDugtrio\\t\\tGROUND\\t\\t2′4″ (0.71m)\\t73.4 lbs (33.3 kg)\\t66.1 \\n', '052\\tMeowth\\t\\tNORMAL \\t\\t1′4″ (0.41m)\\t9.3 lbs (4.2 kg)\\t25.0 \\n', '053\\tPersian\\t\\tNORMAL \\t\\t3′3″ (0.99m)\\t70.5 lbs (32.0 kg)\\t32.6 \\n', '054\\tPsyduck\\t\\tWATER \\t\\t2′7″ (0.79m)\\t43.2 lbs (19.6 kg)\\t31.4 \\n', '055\\tGolduck\\t\\tWATER\\t\\t5′7″ (1.70m)\\t168.9 lbs (76.6 kg)\\t26.5 \\n', '056\\tMankey\\t\\tFIGHTING\\t1′8″ (0.51m)\\t61.7 lbs (28.0 kg)\\t107.7 \\n', '057\\tPrimeape\\tFIGHTING\\t3′3″ (0.99m)\\t70.5 lbs (32.0 kg)\\t32.6 \\n', '058\\tGrowlithe\\tFIRE\\t\\t2′4″ (0.71m)\\t41.9 lbs (19.0 kg)\\t37.7 \\n', '059\\tArcanine\\tFIRE\\t\\t6′3″ (1.91m)\\t341.7 lbs (155.0 kg)\\t42.5 \\n', '060\\tPoliwag\\t\\tWATER\\t\\t2′0″ (0.61m)\\t27.3 lbs (12.4 kg)\\t33.3 \\n', '061\\tPoliwhirl\\tWATER\\t\\t3′3″ (0.99m)\\t44.1 lbs (20.0 kg)\\t20.4 \\n', '062\\tPoliwrath\\tWATER FIGHTING\\t4′3″ (1.30m)\\t119 lbs (54.0 kg)\\t32.0 \\n', '063\\tAbra\\t\\tPSYCHIC\\t\\t2′11″(0.89m)\\t43 lbs (19.5 kg)\\t24.6 \\n', '064\\tKadabra\\t\\tPSYCHIC\\t\\t4′3″ (1.30m)\\t124.6 lbs (56.5 kg)\\t33.4 \\n', '065\\tAlakazam\\tPSYCHIC\\t\\t4′11″(1.50m)\\t105.8 lbs (48.0 kg)\\t21.3\\n', '066\\tMachop\\t\\tFIGHTING\\t2′7″ (0.79m)\\t43 lbs (19.5 kg)\\t31.2\\n', '067\\tMachoke\\t\\tFIGHTING\\t4′11″(1.50m)\\t155.4 lbs (70.5 kg)\\t31.3\\n', '068\\tMachamp\\t\\tFIGHTING\\t5′3″ (1.60m)\\t286.6 lbs (130.0 kg)\\t50.8\\n', '069\\tBellsprout\\tGRASS POISON\\t2′4″ (0.71m)\\t8.8 lbs (4.0 kg)\\t7.9\\n', '070\\tWeepinbell\\tGRASS POISON\\t3′3″ (0.99m)\\t14.1 lbs (6.4 kg)\\t6.5\\n', '071\\tVictreebel\\tGRASS POISON\\t5′7″ (1.70m)\\t34.2 lbs (15.5 kg)\\t5.4\\n', '072\\tTentacool\\tWATER POISON\\t2′11″(0.89m)\\t100.3 lbs (45.5 kg)\\t57.4\\n', '073\\tTentacruel\\tWATER POISON\\t5′3″ (1.60m)\\t121.3 lbs (55.0 kg)\\t21.5\\n', '074\\tGeodude\\t\\tROCK GROUND\\t1′4″ (0.41m)\\t44.1 lbs (20.0 kg)\\t119.0\\n', '075\\tGraveler\\tROCK GROUND\\t3′3″ (0.99m)\\t231.5 lbs (105.0 kg)\\t107.1\\n', '076\\tGolem\\t\\tROCK GROUND\\t4′7″ (1.40m)\\t661.4 lbs (300.0 kg)\\t153.1 \\n', '077\\tPonyta\\t\\tFIRE \\t\\t3′3″ (0.99m)\\t66.1 lbs (30.0 kg)\\t30.6 \\n', '078\\tRapidash\\tFIRE\\t\\t5′7″ (1.70m)\\t209.4 lbs (95.0 kg)\\t32.9 \\n', '079\\tSlowpoke\\tWATER PSYCHIC\\t3′11″(1.19m)\\t79.4 lbs (36.0 kg)\\t25.4 \\n', '080\\tSlowbro\\t\\tWATER PSYCHIC\\t5′3″ (1.60m)\\t173.1 lbs (78.5 kg)\\t30.7 \\n', '081\\tMagnemite\\tELECTRIC STEEL\\t1′0″ (0.30m)\\t13.2 lbs (6.0 kg)\\t66.7\\n', '082\\tMagneton\\tELECTRIC STEEL\\t3′3″ (0.99m)\\t132.3 lbs (60.0 kg)\\t61.2\\n', \"083\\tFarfetch'd\\tNORMAL FLYING\\t2′7″ (0.79m)\\t33.1 lbs (15.0 kg)\\t24.0\\n\", '084\\tDoduo\\t\\tNORMAL FLYING\\t4′7″ (1.40m)\\t86.4 lbs (39.2 kg)\\t20.0\\n', '085\\tDodrio\\t\\tNORMAL FLYING\\t5′11″(1.80m)\\t187.8 lbs (85.2 kg)\\t26.3\\n', '086\\tSeel\\t\\tWATER\\t\\t3′7″ (1.09m)\\t198.4 lbs (90.0 kg)\\t75.8\\n', '087\\tDewgong\\t\\tWATER ICE\\t5′7″ (1.70m)\\t264.6 lbs (120.0 kg)\\t41.5\\n', '088\\tGrimer\\t\\tPOISON \\t\\t2′11″(0.89m)\\t66.1 lbs (30.0 kg)\\t37.9 \\n', '089\\tMuk\\t\\tPOISON\\t\\t3′11″(1.19m)\\t66.1 lbs (30.0 kg)\\t21.2\\n', '090\\tShellder\\tWATER\\t\\t1′0″ (0.30m)\\t8.8 lbs (4.0 kg)\\t44.4\\n', '091\\tCloyster\\tWATER ICE\\t4′11″(1.50m)\\t292.1 lbs (132.5 kg)\\t58.9\\n', '092\\tGastly\\t\\tGHOST POISON\\t4′3″ (1.30m)\\t0.2 lbs (0.1 kg)\\t0.1\\n', '093\\tHaunter\\t\\tGHOST POISON\\t5′3″ (1.60m)\\t0.2 lbs (0.1 kg)\\t0.0\\n', '094\\tGengar\\t\\tGHOST POISON\\t4′11″(1.50m)\\t89.3 lbs (40.5 kg)\\t18.0\\n', '095\\tOnix\\t\\tROCK GROUND\\t29′0″(8.79m)\\t463 lbs (210.0 kg)\\t2.7 \\n', '096\\tDrowzee\\t\\tPSYCHIC\\t\\t3′3″ (0.99m)\\t71.4 lbs (32.4 kg)\\t33.1 \\n', '097\\tHypno\\t\\tPSYCHIC\\t\\t5′3″ (1.60m)\\t166.7 lbs (75.6 kg)\\t29.5 \\n', '098\\tKrabby\\t\\tWATER\\t\\t1′4″ (0.41m)\\t14.3 lbs (6.5 kg)\\t38.7 \\n', '099\\tKingler\\t\\tWATER\\t\\t4′3″ (1.30m)\\t132.3 lbs (60.0 kg)\\t35.5 \\n', '100\\tVoltorb\\t\\tELECTRIC\\t1′8″ (0.51m)\\t22.9 lbs (10.4 kg)\\t40.0 \\n', '101\\tElectrode\\tELECTRIC\\t3′11″(1.19m)\\t146.8 lbs (66.6 kg)\\t47.0 \\n', '102\\tExeggcute\\tGRASS PSYCHIC\\t1′4″ (0.41m)\\t5.5 lbs (2.5 kg)\\t14.9 \\n', '103\\tExeggutor\\tGRASSPSYCHIC\\t6′7″ (2.01m)\\t264.6 lbs (120.0 kg)\\t29.7\\n', '104\\tCubone\\t\\tGROUND\\t\\t1′4″ (0.41m)\\t14.3 lbs (6.5 kg)\\t38.7\\n', '105\\tMarowak\\t\\tGROUND\\t\\t3′3″ (0.99m)\\t99.2 lbs (45.0 kg)\\t45.9 \\n', '106\\tHitmonlee\\tFIGHTING\\t4′11″(1.50m)\\t109.8 lbs (49.8 kg)\\t22.1 \\n', '107\\tHitmonchan\\tFIGHTING\\t4′7″ (1.40m)\\t110.7 lbs (50.2 kg)\\t25.6 \\n', '108\\tLickitung\\tNORMAL\\t\\t3′11″(1.19m)\\t144.4 lbs (65.5 kg)\\t46.3 \\n', '109\\tKoffing\\t\\tPOISON\\t\\t2′0″ (0.61m)\\t2.2 lbs (1.0 kg)\\t2.7 \\n', '110\\tWeezing\\t\\tPOISON\\t\\t3′11″(1.19m)\\t20.9 lbs (9.5 kg)\\t6.7 \\n', '111\\tRhyhorn\\t\\tGROUND ROCK\\t3′3″ (0.99m)\\t253.5 lbs (115.0 kg)\\t117.3 \\n', '112\\tRhydon\\t\\tGROUND ROCK\\t6′3″ (1.91m)\\t264.6 lbs (120.0 kg)\\t32.9 \\n', '113\\tChansey\\t\\tNORMAL\\t\\t3′7″ (1.09m)\\t76.3 lbs (34.6 kg)\\t29.1 \\n', '114\\tTangela\\t\\tGRASS\\t\\t3′3″ (0.99m)\\t77.2 lbs (35.0 kg)\\t35.7 \\n', '115\\tKangaskhan\\tNORMAL\\t\\t7′3″ (2.21m)\\t176.4 lbs (80.0 kg)\\t16.4 \\n', '116\\tHorsea\\t\\tWATER\\t\\t1′4″ (0.41m)\\t17.6 lbs (8.0 kg)\\t47.6\\n', '117\\tSeadra\\t\\tWATER\\t\\t3′11″(1.19m)\\t55.1 lbs (25.0 kg)\\t17.7\\n', '118\\tGoldeen\\t\\tWATER\\t\\t2′0″ (0.61m)\\t33.1 lbs (15.0 kg)\\t40.3\\n', '119\\tSeaking\\t\\tWATER\\t\\t4′3″ (1.30m)\\t86 lbs (39.0 kg)\\t23.1\\n', '120\\tStaryu\\t\\tWATER\\t\\t2′7″ (0.79m)\\t76.1 lbs (34.5 kg)\\t55.3\\n', '121\\tStarmie\\t\\tWATER PSYCHIC\\t3′7″ (1.09m)\\t176.4 lbs (80.0 kg)\\t67.3\\n', '122\\tMr. Mime\\tPSYCHIC FAIRY\\t4′3″ (1.30m)\\t120.2 lbs (54.5 kg)\\t32.2\\n', '123\\tScyther\\t\\tBUG FLYING\\t4′11″(1.50m)\\t123.5 lbs (56.0 kg)\\t24.9\\n', '124\\tJynx\\t\\tICE PSYCHIC\\t4′7″ (1.40m)\\t89.5 lbs (40.6 kg)\\t20.7\\n', '125\\tElectabuzz\\tELECTRIC\\t3′7″ (1.09m)\\t66.1 lbs (30.0 kg)\\t25.3\\n', '126\\tMagmar\\t\\tFIRE\\t\\t4′3″ (1.30m)\\t98.1 lbs (44.5 kg)\\t26.3\\n', '127\\tPinsir\\t\\tBUG \\t\\t4′11″(1.50m)\\t121.3 lbs (55.0 kg)\\t24.4 \\n', '128\\tTauros\\t\\tNORMAL \\t\\t4′7″ (1.40m)\\t194.9 lbs (88.4 kg)\\t45.1 \\n', '129\\tMagikarp\\tWATER \\t\\t2′11″(0.89m)\\t22 lbs (10.0 kg)\\t12.6 \\n', '130\\tGyarados\\tWATERFLYING\\t21′4″(6.50m)\\t518.1 lbs (235.0 kg)\\t5.6\\n', '131\\tLapras\\t\\tWATERICE\\t8′2″ (2.49m)\\t485 lbs (220.0 kg)\\t35.5\\n', '132\\tDitto\\t\\tNORMAL\\t\\t1′0″ (0.30m)\\t8.8 lbs (4.0 kg)\\t44.4\\n', '133\\tEevee\\t\\tNORMAL\\t\\t1′0″ (0.30m)\\t14.3 lbs (6.5 kg)\\t72.2\\n', '134\\tVaporeon\\tWATER\\t\\t3′3″ (0.99m)\\t63.9 lbs (29.0 kg)\\t29.6\\n', '135\\tJolteon\\t\\tELECTRIC\\t2′7″ (0.79m)\\t54 lbs (24.5 kg)\\t39.3\\n', '136\\tFlareon\\t\\tFIRE\\t\\t2′11″(0.89m)\\t55.1 lbs (25.0 kg)\\t31.6\\n', '137\\tPorygon\\t\\tNORMAL\\t\\t2′7″ (0.79m)\\t80.5 lbs (36.5 kg)\\t58.5\\n', '138\\tOmanyte\\t\\tROCK WATER\\t1′4″ (0.41m)\\t16.5 lbs (7.5 kg)\\t44.6\\n', '139\\tOmastar\\t\\tROCK WATER\\t3′3″ (0.99m)\\t77.2 lbs (35.0 kg)\\t35.7\\n', '140\\tKabuto\\t\\tROCK WATER\\t1′8″ (0.51m)\\t25.4 lbs (11.5 kg)\\t44.2\\n', '141\\tKabutops\\tROCK WATER\\t4′3″ (1.30m)\\t89.3 lbs (40.5 kg)\\t24.0\\n', '142\\tAerodactyl\\tROCK FLYING\\t5′11″(1.80m)\\t130.1 lbs (59.0 kg)\\t18.2\\n', '143\\tSnorlax\\t\\tNORMAL \\t\\t6′11″(2.11m)\\t1014.1 lbs (460.0 kg)\\t103.3 \\n', '144\\tArticuno\\tICE FLYING\\t5′7″ (1.70m)\\t122.1 lbs (55.4 kg)\\t19.2 \\n', '145\\tZapdos\\t\\tELECTRIC FLYING\\t5′3″ (1.60m)\\t116 lbs (52.6 kg)\\t20.5 \\n', '146\\tMoltres\\t\\tFIRE FLYING\\t6′7″ (2.01m)\\t132.3 lbs (60.0 kg)\\t14.9 \\n', '147\\tDratini\\t\\tDRAGON\\t\\t5′11″(1.80m)\\t7.3 lbs (3.3 kg)\\t1.0 \\n', '148\\tDragonair\\tDRAGON\\t\\t13′1″(3.99m)\\t36.4 lbs (16.5 kg)\\t1.0 \\n', '149\\tDragonite\\tDRAGON FLYING\\t7′3″ (2.21m)\\t463 lbs (210.0 kg)\\t43.0 \\n', '150\\tMewtwo\\t\\tPSYCHIC\\t\\t6′7″ (2.01m)\\t269 lbs (122.0 kg)\\t30.2 \\n', '151\\tMew\\t\\tPSYCHIC\\t\\t1′4″ (0.41m)\\t8.8 lbs (4.0 kg)\\t23.8\\t']\n"
     ]
    }
   ],
   "source": [
    "# How to read from a file\n",
    "content = f.readlines()\n",
    "print(content)"
   ]
  },
  {
   "cell_type": "markdown",
   "metadata": {},
   "source": [
    "What are we looking at? f.readlines() has returned the entire content of the file as a list of strings. Check out an individual line."
   ]
  },
  {
   "cell_type": "code",
   "execution_count": 85,
   "metadata": {
    "collapsed": false
   },
   "outputs": [
    {
     "data": {
      "text/plain": [
       "'013\\tWeedle\\t\\tBUG POISON\\t1′0″ (0.30m)\\t7.1 lbs (3.2 kg)\\t35.6\\n'"
      ]
     },
     "execution_count": 85,
     "metadata": {},
     "output_type": "execute_result"
    }
   ],
   "source": [
    "content[13]"
   ]
  },
  {
   "cell_type": "markdown",
   "metadata": {},
   "source": [
    "Let's break this apart with string operations. \n",
    "https://docs.python.org/2/library/string.html"
   ]
  },
  {
   "cell_type": "code",
   "execution_count": 91,
   "metadata": {
    "collapsed": false
   },
   "outputs": [
    {
     "name": "stdout",
     "output_type": "stream",
     "text": [
      "['013', 'Weedle', '', 'BUG POISON', '1′0″ (0.30m)', '7.1 lbs (3.2 kg)', '35.6']\n"
     ]
    }
   ],
   "source": [
    "# use .strip() to remove '\\n' which is the new line character\n",
    "# use .split('\\t') to split a string into a list separated by '\\t' \n",
    "# characters, which stands for TAB. \n",
    "weedle = content[13].strip().split('\\t') \n",
    "print(weedle)"
   ]
  },
  {
   "cell_type": "code",
   "execution_count": 93,
   "metadata": {
    "collapsed": false
   },
   "outputs": [
    {
     "name": "stdout",
     "output_type": "stream",
     "text": [
      "013\n",
      "1′0″ (0.30m)\n"
     ]
    }
   ],
   "source": [
    "# remembering how to interact with a list\n",
    "print(weedle[0])\n",
    "print(weedle[4])"
   ]
  },
  {
   "cell_type": "markdown",
   "metadata": {},
   "source": [
    "# Importing\n",
    "A python file is called a module. For many reasons, it is cumbersome to include all relevant code inside a single module. Thus, it becomes useful to refer to data objects and functions that exist in other modules. More convenient still is the collection of modules into a package. In this class we will use the packages numpy (www.numpy.org/) and matplotlib (www.matplotlib.org/)"
   ]
  },
  {
   "cell_type": "markdown",
   "metadata": {},
   "source": [
    "## Numpy\n",
    "numpy (pronounced nuhm - pi) stands for NUMeric PYthon. Numpy provides use with a useful data structure called a numpy array and some operations that can be done with those arrays."
   ]
  },
  {
   "cell_type": "code",
   "execution_count": 96,
   "metadata": {
    "collapsed": true
   },
   "outputs": [],
   "source": [
    "# importing the numpy package and giving it a short variable name.\n",
    "import numpy as np"
   ]
  },
  {
   "cell_type": "code",
   "execution_count": 99,
   "metadata": {
    "collapsed": true
   },
   "outputs": [],
   "source": [
    "# creating a numpy array\n",
    "testarr = np.array([10,3,6,3,66,2])"
   ]
  },
  {
   "cell_type": "code",
   "execution_count": 101,
   "metadata": {
    "collapsed": true
   },
   "outputs": [
    {
     "ename": "AttributeError",
     "evalue": "'numpy.ndarray' object has no attribute 'append'",
     "output_type": "error",
     "traceback": [
      "\u001b[0;31m---------------------------------------------------------------------------\u001b[0m",
      "\u001b[0;31mAttributeError\u001b[0m                            Traceback (most recent call last)",
      "\u001b[0;32m<ipython-input-101-860fb86fd12e>\u001b[0m in \u001b[0;36m<module>\u001b[0;34m()\u001b[0m\n\u001b[1;32m      1\u001b[0m \u001b[0;31m# numpy arrays cannot change in size! You must know the dimensions of the\u001b[0m\u001b[0;34m\u001b[0m\u001b[0;34m\u001b[0m\u001b[0m\n\u001b[1;32m      2\u001b[0m \u001b[0;31m# array before populating it\u001b[0m\u001b[0;34m\u001b[0m\u001b[0;34m\u001b[0m\u001b[0m\n\u001b[0;32m----> 3\u001b[0;31m \u001b[0mtestarr\u001b[0m\u001b[0;34m.\u001b[0m\u001b[0mappend\u001b[0m\u001b[0;34m(\u001b[0m\u001b[0;36m14\u001b[0m\u001b[0;34m)\u001b[0m\u001b[0;34m\u001b[0m\u001b[0m\n\u001b[0m",
      "\u001b[0;31mAttributeError\u001b[0m: 'numpy.ndarray' object has no attribute 'append'"
     ]
    }
   ],
   "source": [
    "# numpy arrays cannot change in size! You must know the dimensions of the \n",
    "# array before populating it\n",
    "testarr.append(14)"
   ]
  },
  {
   "cell_type": "markdown",
   "metadata": {},
   "source": [
    "So, why use numpy arrays instead of python lists? They both can store\n",
    "sequences of objects, but numpy arrays are limited to only storing objects\n",
    "of a single type and cannot be editted, both are properties of python lists. It's all in the syntax. Consider the following."
   ]
  },
  {
   "cell_type": "code",
   "execution_count": 106,
   "metadata": {
    "collapsed": false
   },
   "outputs": [
    {
     "name": "stdout",
     "output_type": "stream",
     "text": [
      "[0.0, 0.58778525229247314, 0.95105651629515353, 0.95105651629515364, 0.58778525229247325, 1.2246467991473532e-16, -0.58778525229247303, -0.95105651629515353, -0.95105651629515364, -0.58778525229247325]\n",
      "[  0.00000000e+00   5.87785252e-01   9.51056516e-01   9.51056516e-01\n",
      "   5.87785252e-01   1.22464680e-16  -5.87785252e-01  -9.51056516e-01\n",
      "  -9.51056516e-01  -5.87785252e-01]\n"
     ]
    }
   ],
   "source": [
    "# pure python list\n",
    "# first, you will have to figure out what np.arange() does. Look it up.\n",
    "# Also, look up list comprehension or generator syntax to determine the \n",
    "# syntax of the list creation below.\n",
    "pysine = [np.sin(x) for x in np.arange(0, 2*np.pi,2*np.pi/10)]\n",
    "# numpy list\n",
    "npsine = np.array(pysine)\n",
    "\n",
    "print(pysine)\n",
    "print(npsine)"
   ]
  },
  {
   "cell_type": "markdown",
   "metadata": {},
   "source": [
    "So, we have two arrays that have the values of a sine wave at 10 locations. What if we wanted to scale these sine waves by an amplitude or  add a constant term like the the equation?\n",
    "\n",
    "A * sin(x) + B"
   ]
  },
  {
   "cell_type": "code",
   "execution_count": 108,
   "metadata": {
    "collapsed": false
   },
   "outputs": [
    {
     "name": "stdout",
     "output_type": "stream",
     "text": [
      "[3.0, 5.9389262614623659, 7.7552825814757673, 7.7552825814757682, 5.9389262614623668, 3.0000000000000004, 0.061073738537634981, -1.7552825814757673, -1.7552825814757682, 0.061073738537633648]\n",
      "[ 3.          5.93892626  7.75528258  7.75528258  5.93892626  3.\n",
      "  0.06107374 -1.75528258 -1.75528258  0.06107374]\n"
     ]
    }
   ],
   "source": [
    "# python way\n",
    "A = 5\n",
    "B = 3\n",
    "newpysine = [A * el + B for el in pysine] # this is complex and ugly\n",
    "newnpsine = A * npsine + B    # this is simple and beautiful\n",
    "\n",
    "print(newpysine)\n",
    "print(newnpsine)"
   ]
  },
  {
   "cell_type": "markdown",
   "metadata": {},
   "source": [
    "An entire notebook could be devoted to the awesomeness of numpy arrays, but basically, after their creation, you can refer to them as a single variable like you would refer to a vector in a math class."
   ]
  },
  {
   "cell_type": "markdown",
   "metadata": {},
   "source": [
    "# Matplotlib\n",
    "Visualization of data is so important. Our vision-optimized brains  need to look at data to understand it. For this, we use matplotlib (MAThematics PLOTting LIBrary). Use is simply like this:"
   ]
  },
  {
   "cell_type": "code",
   "execution_count": 113,
   "metadata": {
    "collapsed": false
   },
   "outputs": [
    {
     "data": {
      "text/plain": [
       "[<matplotlib.lines.Line2D at 0x106797cc0>]"
      ]
     },
     "execution_count": 113,
     "metadata": {},
     "output_type": "execute_result"
    },
    {
     "data": {
      "image/png": "[encoded data removed]",
      "text/plain": [
       "<matplotlib.figure.Figure at 0x10666ae80>"
      ]
     },
     "metadata": {},
     "output_type": "display_data"
    }
   ],
   "source": [
    "import matplotlib.pyplot as plt # pyplot is a submodule of matplotlib\n",
    "                                # for our class it is the only thing \n",
    "                                # we care about\n",
    "%matplotlib inline\n",
    "x = np.arange(0, 2*np.pi,2*np.pi/10)\n",
    "y = np.sin(x)\n",
    "plt.plot(x,y)"
   ]
  },
  {
   "cell_type": "code",
   "execution_count": null,
   "metadata": {
    "collapsed": true
   },
   "outputs": [],
   "source": []
  }
 ],
 "metadata": {
  "kernelspec": {
   "display_name": "Python 2",
   "language": "python",
   "name": "python2"
  },
  "language_info": {
   "codemirror_mode": {
    "name": "ipython",
    "version": 2
   },
   "file_extension": ".py",
   "mimetype": "text/x-python",
   "name": "python",
   "nbconvert_exporter": "python",
   "pygments_lexer": "ipython2",
   "version": "2.7.10"
  }
 },
 "nbformat": 4,
 "nbformat_minor": 0
}
